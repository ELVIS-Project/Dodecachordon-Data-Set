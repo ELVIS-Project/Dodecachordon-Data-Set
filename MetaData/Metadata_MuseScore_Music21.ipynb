{
 "cells": [
  {
   "cell_type": "markdown",
   "metadata": {},
   "source": [
    "# Handling Metadata with MuseScore and Music21"
   ]
  },
  {
   "cell_type": "markdown",
   "metadata": {},
   "source": [
    "First we need to import the music21 toolkit."
   ]
  },
  {
   "cell_type": "code",
   "execution_count": 1,
   "metadata": {
    "collapsed": true
   },
   "outputs": [],
   "source": [
    "import music21"
   ]
  },
  {
   "cell_type": "markdown",
   "metadata": {},
   "source": [
    "Next, we parse one of our in MusicXML encoded files."
   ]
  },
  {
   "cell_type": "code",
   "execution_count": 10,
   "metadata": {
    "collapsed": true
   },
   "outputs": [],
   "source": [
    "chant = music21.converter.parse('Corpus/Monophonic/Book-2_Emendemus-in-melius_p-142.xml')"
   ]
  },
  {
   "cell_type": "code",
   "execution_count": 11,
   "metadata": {
    "collapsed": false
   },
   "outputs": [
    {
     "name": "stdout",
     "output_type": "stream",
     "text": [
      "{0.0} <music21.text.TextBox \"Anonymous\">\n",
      "{0.0} <music21.text.TextBox \"Emendemus ...\">\n",
      "{0.0} <music21.metadata.Metadata object at 0x108c04c50>\n",
      "{0.0} <music21.stream.Part Piano>\n",
      "    {0.0} <music21.instrument.Instrument P1: Piano: Piano>\n",
      "    {0.0} <music21.stream.Measure 1 offset=0.0>\n",
      "        {0.0} <music21.layout.SystemLayout>\n",
      "        {0.0} <music21.clef.BassClef>\n",
      "        {0.0} <music21.key.KeySignature of no sharps or flats, mode none>\n",
      "        {0.0} <music21.meter.TimeSignature 63/4>\n",
      "        {0.0} <music21.note.Note A>\n",
      "        {1.0} <music21.note.Note A>\n",
      "        {2.0} <music21.note.Note C>\n",
      "        {3.0} <music21.note.Note D>\n",
      "        {4.0} <music21.note.Note F>\n",
      "        {5.0} <music21.note.Note D>\n",
      "        {6.0} <music21.note.Note F>\n",
      "        {7.0} <music21.note.Note F>\n",
      "        {8.0} <music21.note.Note E>\n",
      "        {9.0} <music21.note.Note F>\n",
      "        {10.0} <music21.note.Note D>\n",
      "        {11.0} <music21.note.Note E>\n",
      "        {12.0} <music21.note.Note D>\n",
      "        {13.0} <music21.note.Note C>\n",
      "        {14.0} <music21.note.Note C>\n",
      "        {15.0} <music21.note.Note D>\n",
      "        {16.0} <music21.note.Note E>\n",
      "        {17.0} <music21.note.Note F>\n",
      "        {18.0} <music21.note.Note E>\n",
      "        {19.0} <music21.note.Note D>\n",
      "        {20.0} <music21.note.Note C>\n",
      "        {21.0} <music21.note.Note D>\n",
      "        {22.0} <music21.note.Note F>\n",
      "        {23.0} <music21.note.Note D>\n",
      "        {24.0} <music21.note.Note D>\n",
      "        {25.0} <music21.note.Note F>\n",
      "        {26.0} <music21.note.Note G>\n",
      "        {27.0} <music21.note.Note F>\n",
      "        {28.0} <music21.note.Note E>\n",
      "        {29.0} <music21.note.Note F>\n",
      "        {30.0} <music21.note.Note E>\n",
      "        {31.0} <music21.note.Note D>\n",
      "        {32.0} <music21.note.Note D>\n",
      "        {33.0} <music21.note.Note E>\n",
      "        {34.0} <music21.note.Note F>\n",
      "        {35.0} <music21.note.Note E>\n",
      "        {36.0} <music21.note.Note D>\n",
      "        {37.0} <music21.note.Note E>\n",
      "    {0.0} <music21.spanner.Slur <music21.note.Note C><music21.note.Note F>>\n",
      "    {0.0} <music21.spanner.Slur <music21.note.Note F><music21.note.Note F>>\n",
      "    {0.0} <music21.spanner.Slur <music21.note.Note D><music21.note.Note E>>\n",
      "    {0.0} <music21.spanner.Slur <music21.note.Note D><music21.note.Note C>>\n",
      "    {0.0} <music21.spanner.Slur <music21.note.Note F><music21.note.Note F>>\n",
      "    {0.0} <music21.spanner.Slur <music21.note.Note D><music21.note.Note E>>\n",
      "    {0.0} <music21.spanner.Slur <music21.note.Note D><music21.note.Note E>>\n",
      "    {0.0} <music21.spanner.Slur <music21.note.Note E><music21.note.Note D>>\n",
      "    {0.0} <music21.spanner.Slur <music21.note.Note F><music21.note.Note G>>\n",
      "    {0.0} <music21.spanner.Slur <music21.note.Note G><music21.note.Note F>>\n",
      "    {0.0} <music21.spanner.Slur <music21.note.Note G><music21.note.Note G>>\n",
      "    {0.0} <music21.spanner.Slur <music21.note.Note D><music21.note.Note G>>\n",
      "    {0.0} <music21.spanner.Slur <music21.note.Note F><music21.note.Note E>>\n",
      "    {0.0} <music21.spanner.Slur <music21.note.Note F><music21.note.Note G>>\n",
      "    {0.0} <music21.spanner.Slur <music21.note.Note D><music21.note.Note G>>\n",
      "    {0.0} <music21.spanner.Slur <music21.note.Note F><music21.note.Note E>>\n",
      "    {0.0} <music21.spanner.Slur <music21.note.Note F><music21.note.Note G>>\n",
      "    {0.0} <music21.spanner.Slur <music21.note.Note F><music21.note.Note E>>\n",
      "    {0.0} <music21.spanner.Slur <music21.note.Note D><music21.note.Note E>>\n",
      "    {0.0} <music21.spanner.Slur <music21.note.Note D><music21.note.Note E>>\n",
      "    {0.0} <music21.spanner.Slur <music21.note.Note C><music21.note.Note A>>\n",
      "    {0.0} <music21.spanner.Slur <music21.note.Note C><music21.note.Note D>>\n",
      "    {0.0} <music21.spanner.Slur <music21.note.Note D><music21.note.Note C>>\n",
      "    {0.0} <music21.spanner.Slur <music21.note.Note D><music21.note.Note E>>\n",
      "    {0.0} <music21.spanner.Slur <music21.note.Note D><music21.note.Note E>>\n",
      "    {0.0} <music21.spanner.Slur <music21.note.Note E><music21.note.Note D>>\n",
      "    {0.0} <music21.spanner.Slur <music21.note.Note F><music21.note.Note E>>\n",
      "    {0.0} <music21.spanner.Slur <music21.note.Note F><music21.note.Note G>>\n",
      "    {0.0} <music21.spanner.Slur <music21.note.Note F><music21.note.Note E>>\n",
      "    {0.0} <music21.spanner.Slur <music21.note.Note D><music21.note.Note E>>\n",
      "    {0.0} <music21.spanner.Slur <music21.note.Note D><music21.note.Note D>>\n",
      "    {0.0} <music21.spanner.Slur <music21.note.Note A><music21.note.Note A>>\n",
      "    {0.0} <music21.spanner.Slur <music21.note.Note E><music21.note.Note C>>\n",
      "    {0.0} <music21.spanner.Slur <music21.note.Note G><music21.note.Note E>>\n",
      "    {0.0} <music21.spanner.Slur <music21.note.Note D><music21.note.Note E>>\n",
      "    {0.0} <music21.spanner.Slur <music21.note.Note E><music21.note.Note D>>\n",
      "    {0.0} <music21.spanner.Slur <music21.note.Note C><music21.note.Note F>>\n",
      "    {0.0} <music21.spanner.Slur <music21.note.Note F><music21.note.Note G>>\n",
      "    {0.0} <music21.spanner.Slur <music21.note.Note F><music21.note.Note E>>\n",
      "    {0.0} <music21.spanner.Slur <music21.note.Note F><music21.note.Note G>>\n",
      "    {0.0} <music21.spanner.Slur <music21.note.Note E><music21.note.Note F>>\n",
      "    {0.0} <music21.spanner.Slur <music21.note.Note D><music21.note.Note E>>\n",
      "    {0.0} <music21.spanner.Slur <music21.note.Note E><music21.note.Note D>>\n",
      "    {0.0} <music21.spanner.Slur <music21.note.Note C><music21.note.Note D>>\n",
      "    {0.0} <music21.spanner.Slur <music21.note.Note D><music21.note.Note F>>\n",
      "    {38.0} <music21.stream.Measure 2 offset=38.0>\n",
      "        {0.0} <music21.note.Note E>\n",
      "        {1.0} <music21.note.Note D>\n",
      "        {2.0} <music21.note.Note D>\n",
      "        {3.0} <music21.note.Note F>\n",
      "        {4.0} <music21.note.Note F>\n",
      "        {5.0} <music21.note.Note G>\n",
      "        {6.0} <music21.note.Note G>\n",
      "        {7.0} <music21.note.Note G>\n",
      "        {8.0} <music21.note.Note G>\n",
      "        {9.0} <music21.note.Note G>\n",
      "        {10.0} <music21.note.Note F>\n",
      "        {11.0} <music21.note.Note G>\n",
      "        {12.0} <music21.note.Note A>\n",
      "        {13.0} <music21.note.Note F>\n",
      "        {14.0} <music21.note.Note G>\n",
      "        {15.0} <music21.note.Note D>\n",
      "        {16.0} <music21.note.Note D>\n",
      "        {17.0} <music21.note.Note G>\n",
      "        {18.0} <music21.note.Note F>\n",
      "        {19.0} <music21.note.Note E>\n",
      "        {20.0} <music21.note.Note F>\n",
      "        {21.0} <music21.note.Note G>\n",
      "        {22.0} <music21.note.Note D>\n",
      "        {23.0} <music21.note.Note D>\n",
      "        {24.0} <music21.note.Note D>\n",
      "        {25.0} <music21.note.Note G>\n",
      "        {26.0} <music21.note.Note F>\n",
      "        {27.0} <music21.note.Note E>\n",
      "        {28.0} <music21.note.Note F>\n",
      "        {29.0} <music21.note.Note G>\n",
      "        {30.0} <music21.note.Note F>\n",
      "        {31.0} <music21.note.Note E>\n",
      "        {32.0} <music21.note.Note D>\n",
      "        {33.0} <music21.note.Note C>\n",
      "        {34.0} <music21.note.Note D>\n",
      "        {35.0} <music21.note.Note E>\n",
      "        {36.0} <music21.note.Note D>\n",
      "        {37.0} <music21.note.Note E>\n",
      "        {38.0} <music21.note.Note C>\n",
      "        {39.0} <music21.note.Note C>\n",
      "        {40.0} <music21.note.Note A>\n",
      "    {79.0} <music21.stream.Measure 3 offset=79.0>\n",
      "        {0.0} <music21.note.Note A>\n",
      "        {1.0} <music21.note.Note C>\n",
      "        {2.0} <music21.note.Note D>\n",
      "        {3.0} <music21.note.Note D>\n",
      "        {4.0} <music21.note.Note D>\n",
      "        {5.0} <music21.note.Note D>\n",
      "        {6.0} <music21.note.Note C>\n",
      "        {7.0} <music21.note.Note D>\n",
      "        {8.0} <music21.note.Note F>\n",
      "        {9.0} <music21.note.Note G>\n",
      "        {10.0} <music21.note.Note E>\n",
      "        {11.0} <music21.note.Note F>\n",
      "        {12.0} <music21.note.Note E>\n",
      "        {13.0} <music21.note.Note D>\n",
      "        {14.0} <music21.note.Note D>\n",
      "        {15.0} <music21.note.Note E>\n",
      "        {16.0} <music21.note.Note F>\n",
      "        {17.0} <music21.note.Note E>\n",
      "        {18.0} <music21.note.Note D>\n",
      "        {19.0} <music21.note.Note E>\n",
      "        {20.0} <music21.note.Note E>\n",
      "        {21.0} <music21.note.Note D>\n",
      "        {22.0} <music21.note.Note C>\n",
      "        {23.0} <music21.note.Note D>\n",
      "        {24.0} <music21.note.Note F>\n",
      "        {25.0} <music21.note.Note E>\n",
      "        {26.0} <music21.note.Note F>\n",
      "        {27.0} <music21.note.Note G>\n",
      "        {28.0} <music21.note.Note F>\n",
      "        {29.0} <music21.note.Note E>\n",
      "        {30.0} <music21.note.Note D>\n",
      "        {31.0} <music21.note.Note C>\n",
      "        {32.0} <music21.note.Note D>\n",
      "        {33.0} <music21.note.Note E>\n",
      "        {34.0} <music21.note.Note F>\n",
      "    {114.0} <music21.stream.Measure 4 offset=114.0>\n",
      "        {0.0} <music21.note.Note D>\n",
      "        {1.0} <music21.note.Note C>\n",
      "        {2.0} <music21.note.Note D>\n",
      "        {3.0} <music21.note.Note A>\n",
      "        {4.0} <music21.note.Note C>\n",
      "        {5.0} <music21.note.Note B>\n",
      "        {6.0} <music21.note.Note A>\n",
      "        {7.0} <music21.note.Note B>\n",
      "        {8.0} <music21.note.Note A>\n",
      "        {9.0} <music21.note.Note D>\n",
      "        {10.0} <music21.note.Note D>\n",
      "        {11.0} <music21.note.Note D>\n",
      "        {12.0} <music21.note.Note E>\n",
      "        {13.0} <music21.note.Note F>\n",
      "        {14.0} <music21.note.Note E>\n",
      "        {15.0} <music21.note.Note C>\n",
      "        {16.0} <music21.note.Note F>\n",
      "        {17.0} <music21.note.Note G>\n",
      "        {18.0} <music21.note.Note E>\n",
      "        {19.0} <music21.note.Note F>\n",
      "        {20.0} <music21.note.Note E>\n",
      "        {21.0} <music21.note.Note D>\n",
      "        {22.0} <music21.note.Note E>\n",
      "        {23.0} <music21.note.Note F>\n",
      "        {24.0} <music21.note.Note E>\n",
      "        {25.0} <music21.note.Note D>\n",
      "        {26.0} <music21.note.Note E>\n",
      "        {27.0} <music21.note.Note E>\n",
      "        {28.0} <music21.note.Note D>\n",
      "        {29.0} <music21.note.Note D>\n",
      "        {30.0} <music21.note.Note C>\n",
      "        {31.0} <music21.note.Note D>\n",
      "        {32.0} <music21.note.Note F>\n",
      "        {33.0} <music21.note.Note F>\n",
      "        {34.0} <music21.note.Note G>\n",
      "    {149.0} <music21.stream.Measure 5 offset=149.0>\n",
      "        {0.0} <music21.note.Note F>\n",
      "        {1.0} <music21.note.Note F>\n",
      "        {2.0} <music21.note.Note F>\n",
      "        {3.0} <music21.note.Note F>\n",
      "        {4.0} <music21.note.Note E>\n",
      "        {5.0} <music21.note.Note F>\n",
      "        {6.0} <music21.note.Note G>\n",
      "        {7.0} <music21.note.Note E>\n",
      "        {8.0} <music21.note.Note F>\n",
      "        {9.0} <music21.note.Note D>\n",
      "        {10.0} <music21.note.Note E>\n",
      "        {11.0} <music21.note.Note F>\n",
      "        {12.0} <music21.note.Note E>\n",
      "        {13.0} <music21.note.Note E>\n",
      "        {14.0} <music21.note.Note D>\n",
      "        {15.0} <music21.note.Note D>\n",
      "        {16.0} <music21.note.Note C>\n",
      "        {17.0} <music21.note.Note D>\n",
      "        {18.0} <music21.note.Note D>\n",
      "        {19.0} <music21.note.Note D>\n",
      "        {20.0} <music21.note.Note F>\n",
      "        {21.0} <music21.note.Note D>\n",
      "        {22.0} <music21.note.Note D>\n",
      "    {172.0} <music21.stream.Measure 6 offset=172.0>\n",
      "        {0.0} <music21.note.Note D>\n",
      "        {1.0} <music21.note.Note D>\n",
      "        {2.0} <music21.note.Note D>\n",
      "        {3.0} <music21.note.Note D>\n",
      "        {4.0} <music21.note.Note E>\n",
      "        {5.0} <music21.note.Note F>\n",
      "        {6.0} <music21.note.Note E>\n",
      "        {7.0} <music21.note.Note D>\n",
      "        {8.0} <music21.note.Note C>\n",
      "        {9.0} <music21.note.Note D>\n",
      "        {10.0} <music21.note.Note F>\n",
      "        {11.0} <music21.note.Note E>\n",
      "        {12.0} <music21.note.Note F>\n",
      "        {13.0} <music21.note.Note G>\n",
      "        {14.0} <music21.note.Note F>\n",
      "        {15.0} <music21.note.Note F>\n",
      "        {16.0} <music21.note.Note E>\n",
      "        {17.0} <music21.note.Note D>\n",
      "        {18.0} <music21.note.Note E>\n",
      "        {19.0} <music21.note.Note D>\n",
      "        {20.0} <music21.note.Note C>\n",
      "        {21.0} <music21.note.Note C>\n",
      "        {22.0} <music21.note.Note D>\n",
      "        {23.0} <music21.note.Note F>\n",
      "        {24.0} <music21.note.Note E>\n",
      "        {25.0} <music21.note.Note C>\n",
      "        {26.0} <music21.note.Note D>\n",
      "        {27.0} <music21.note.Note F>\n",
      "        {28.0} <music21.note.Note F>\n",
      "        {29.0} <music21.note.Note G>\n",
      "        {30.0} <music21.note.Note F>\n",
      "    {203.0} <music21.stream.Measure 7 offset=203.0>\n",
      "        {0.0} <music21.note.Note F>\n",
      "        {1.0} <music21.note.Note C>\n",
      "        {2.0} <music21.note.Note D>\n",
      "        {3.0} <music21.note.Note F>\n",
      "        {4.0} <music21.note.Note E>\n",
      "        {5.0} <music21.note.Note F>\n",
      "        {6.0} <music21.note.Note G>\n",
      "        {7.0} <music21.note.Note F>\n",
      "        {8.0} <music21.note.Note E>\n",
      "        {9.0} <music21.expressions.TextExpression \"Haec de Hy...\">\n",
      "        {9.0} <music21.note.Note D>\n",
      "{0.0} <music21.layout.ScoreLayout>\n"
     ]
    }
   ],
   "source": [
    "# @TODO: fix problem with MusicXML encoding here ...\n",
    "chant.show('text')"
   ]
  },
  {
   "cell_type": "markdown",
   "metadata": {},
   "source": [
    "After we parsed the MusicXML file into an music21 stream, we want to extract what type of meta data is available to us, \n",
    "by creating a list."
   ]
  },
  {
   "cell_type": "code",
   "execution_count": 12,
   "metadata": {
    "collapsed": false
   },
   "outputs": [
    {
     "data": {
      "text/plain": [
       "[('None', 'Hypodorian'),\n",
       " ('arranger', 'Glarean'),\n",
       " ('composer', 'Anonymous'),\n",
       " ('movementName', 'Emendemus in melius'),\n",
       " ('movementNumber', 'p. 103: p. 142'),\n",
       " ('number', 'Dodecachordon, Book 2'),\n",
       " ('title', 'Emendemus in melius')]"
      ]
     },
     "execution_count": 12,
     "metadata": {},
     "output_type": "execute_result"
    }
   ],
   "source": [
    "chant_md = chant.metadata\n",
    "chant_md_list = chant_md.all()\n",
    "chant_md_list"
   ]
  },
  {
   "cell_type": "markdown",
   "metadata": {},
   "source": [
    "Accessing particular items in the by music21 generated list of tuplets is cumbersome. For example, let's access the composer:"
   ]
  },
  {
   "cell_type": "code",
   "execution_count": 13,
   "metadata": {
    "collapsed": false
   },
   "outputs": [
    {
     "data": {
      "text/plain": [
       "'Anonymous'"
      ]
     },
     "execution_count": 13,
     "metadata": {},
     "output_type": "execute_result"
    }
   ],
   "source": [
    "chant_md_list[2][1]"
   ]
  },
  {
   "cell_type": "markdown",
   "metadata": {},
   "source": [
    "However, if we convert our list of tuplets to a dictionary, we can look up the composer much more intuitively:"
   ]
  },
  {
   "cell_type": "code",
   "execution_count": 14,
   "metadata": {
    "collapsed": false
   },
   "outputs": [
    {
     "data": {
      "text/plain": [
       "{'None': 'Hypodorian',\n",
       " 'arranger': 'Glarean',\n",
       " 'composer': 'Anonymous',\n",
       " 'movementName': 'Emendemus in melius',\n",
       " 'movementNumber': 'p. 103: p. 142',\n",
       " 'number': 'Dodecachordon, Book 2',\n",
       " 'title': 'Emendemus in melius'}"
      ]
     },
     "execution_count": 14,
     "metadata": {},
     "output_type": "execute_result"
    }
   ],
   "source": [
    "chant_md_dict = dict(chant_md_list)\n",
    "chant_md_dict"
   ]
  },
  {
   "cell_type": "code",
   "execution_count": 15,
   "metadata": {
    "collapsed": false
   },
   "outputs": [
    {
     "data": {
      "text/plain": [
       "'Anonymous'"
      ]
     },
     "execution_count": 15,
     "metadata": {},
     "output_type": "execute_result"
    }
   ],
   "source": [
    "chant_md_dict['composer']"
   ]
  },
  {
   "cell_type": "markdown",
   "metadata": {},
   "source": [
    "In MuseScore the ```poet``` field under ```File > Score Properties``` renders to a ```None``` key. We use this key to\n",
    "indicate the mode of the composition according to Glarean. Accessing the mode then only requires:"
   ]
  },
  {
   "cell_type": "code",
   "execution_count": 16,
   "metadata": {
    "collapsed": false
   },
   "outputs": [
    {
     "data": {
      "text/plain": [
       "'Hypodorian'"
      ]
     },
     "execution_count": 16,
     "metadata": {},
     "output_type": "execute_result"
    }
   ],
   "source": [
    "chant_md_dict['None']"
   ]
  },
  {
   "cell_type": "markdown",
   "metadata": {},
   "source": [
    "Here is an explanation of how all the fields from MuseScore's ```Score Properties``` are being used in the project:\n",
    "\n",
    "MuseScore Label | Music21 Label | Value | Explanation\n",
    "--------------- | ------------- | ----- | -----------\n",
    "poet | 'None' | 'Hypodorian' | There is no default \"Mode\" field, so we can use this field instead.\n",
    "arranger | 'arranger' | 'Glarean' | Glarean placed the composition as an example into his book.\n",
    "composer | 'composer' | 'Anonymous' | Whoever composed the composition.\n",
    "movementTitle | 'movementName' | 'Emendemus in melius' | Here the movement name is the same name as the 'title', since there are no additional movements.\n",
    "movementNumber | 'movementNumber' | 'p. 103: p. 142' | The fields shows on what page of the _Dodecachordon_ the example appears. There are two numbers seperated by a colon: (1) the number before the colon indicates where the piece appears in the facsimile; (2) the number following the colon indicates where the piece appears in Miller's translation (see below for code snippet to seperate the two values).  \n",
    "workNumber | 'number' | 'Dodecachordon, Book 2' | Indicates in which book of the dodecachordon the piece occurs.\n",
    "workTitle | 'title' | 'Emendemus in melius' | The title of the piece."
   ]
  },
  {
   "cell_type": "code",
   "execution_count": 17,
   "metadata": {
    "collapsed": false
   },
   "outputs": [
    {
     "data": {
      "text/plain": [
       "'p. 142'"
      ]
     },
     "execution_count": 17,
     "metadata": {},
     "output_type": "execute_result"
    }
   ],
   "source": [
    "# Code snippet to seperate the two page values:\n",
    "chant_md_pages = chant_md_dict['movementNumber'].split(':')\n",
    "chant_md_pages[0].strip() # Facsimile, and removing whitespace\n",
    "chant_md_pages[1].strip() # Miller's translation, and removing whitespace"
   ]
  },
  {
   "cell_type": "code",
   "execution_count": 18,
   "metadata": {
    "collapsed": true
   },
   "outputs": [],
   "source": [
    "chant2 = music21.converter.parse('Corpus/Monophonic/Book-2_Pater-noster_pp-143-44.xml')"
   ]
  },
  {
   "cell_type": "code",
   "execution_count": 19,
   "metadata": {
    "collapsed": false
   },
   "outputs": [
    {
     "data": {
      "text/plain": [
       "[('None', 'Aeolian'),\n",
       " ('arranger', 'Glarean'),\n",
       " ('composer', 'Anonymous'),\n",
       " ('movementName', 'Pater noster'),\n",
       " ('movementNumber', 'p. 105: p. 143-144'),\n",
       " ('number', 'Dodecachordon, Book 2'),\n",
       " ('title', 'Pater noster')]"
      ]
     },
     "execution_count": 19,
     "metadata": {},
     "output_type": "execute_result"
    }
   ],
   "source": [
    "chant2.metadata.all()"
   ]
  },
  {
   "cell_type": "code",
   "execution_count": null,
   "metadata": {
    "collapsed": true
   },
   "outputs": [],
   "source": []
  }
 ],
 "metadata": {
  "kernelspec": {
   "display_name": "Python 2",
   "language": "python",
   "name": "python2"
  },
  "language_info": {
   "codemirror_mode": {
    "name": "ipython",
    "version": 2
   },
   "file_extension": ".py",
   "mimetype": "text/x-python",
   "name": "python",
   "nbconvert_exporter": "python",
   "pygments_lexer": "ipython2",
   "version": "2.7.12"
  }
 },
 "nbformat": 4,
 "nbformat_minor": 1
}
